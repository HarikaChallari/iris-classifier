{
  "nbformat": 4,
  "nbformat_minor": 0,
  "metadata": {
    "colab": {
      "provenance": []
    },
    "kernelspec": {
      "name": "python3",
      "display_name": "Python 3"
    },
    "language_info": {
      "name": "python"
    }
  },
  "cells": [
    {
      "cell_type": "code",
      "execution_count": null,
      "metadata": {
        "colab": {
          "base_uri": "https://localhost:8080/"
        },
        "id": "-t8o6n6F8AMb",
        "outputId": "499fd99b-c902-44fc-9812-69105c71cd3e"
      },
      "outputs": [
        {
          "output_type": "stream",
          "name": "stdout",
          "text": [
            "Accuracy: 1.0\n",
            "Predicted flower: setosa\n"
          ]
        }
      ],
      "source": [
        "# Step 1: Import libraries\n",
        "from sklearn.datasets import load_iris\n",
        "from sklearn.model_selection import train_test_split\n",
        "from sklearn.ensemble import RandomForestClassifier\n",
        "from sklearn.metrics import accuracy_score\n",
        "\n",
        "# Step 2: Load the dataset\n",
        "iris = load_iris()\n",
        "X = iris.data   # features (petal & sepal sizes)\n",
        "y = iris.target # labels (flower type)\n",
        "\n",
        "# Step 3: Split into training & testing data\n",
        "X_train, X_test, y_train, y_test = train_test_split(X, y, test_size=0.2, random_state=42)\n",
        "\n",
        "# Step 4: Train a simple model\n",
        "model = RandomForestClassifier()\n",
        "model.fit(X_train, y_train)\n",
        "\n",
        "# Step 5: Test the model\n",
        "y_pred = model.predict(X_test)\n",
        "print(\"Accuracy:\", accuracy_score(y_test, y_pred))\n",
        "\n",
        "# Step 6: Try your own prediction\n",
        "sample = [[5.1, 3.5, 1.4, 0.2]]  # sepal length, sepal width, petal length, petal width\n",
        "print(\"Predicted flower:\", iris.target_names[model.predict(sample)[0]])\n"
      ]
    }
  ]
}